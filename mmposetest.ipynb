{
 "cells": [
  {
   "cell_type": "code",
   "execution_count": 12,
   "metadata": {},
   "outputs": [
    {
     "name": "stdout",
     "output_type": "stream",
     "text": [
      "Loads checkpoint by http backend from path: https://download.openmmlab.com/mmpose/v1/projects/rtmposev1/rtmpose-m_simcc-body7_pt-body7_420e-256x192-e48f03d0_20230504.pth\n",
      "Loads checkpoint by http backend from path: https://download.openmmlab.com/mmpose/v1/projects/rtmposev1/rtmdet_m_8xb32-100e_coco-obj365-person-235e8209.pth\n"
     ]
    },
    {
     "name": "stderr",
     "output_type": "stream",
     "text": [
      "c:\\Users\\pawel\\miniconda3\\envs\\openmmlab\\lib\\site-packages\\mmdet\\models\\layers\\se_layer.py:158: FutureWarning: `torch.cuda.amp.autocast(args...)` is deprecated. Please use `torch.amp.autocast('cuda', args...)` instead.\n",
      "  with torch.cuda.amp.autocast(enabled=False):\n",
      "c:\\Users\\pawel\\miniconda3\\envs\\openmmlab\\lib\\site-packages\\mmdet\\models\\backbones\\csp_darknet.py:118: FutureWarning: `torch.cuda.amp.autocast(args...)` is deprecated. Please use `torch.amp.autocast('cuda', args...)` instead.\n",
      "  with torch.cuda.amp.autocast(enabled=False):\n"
     ]
    },
    {
     "name": "stdout",
     "output_type": "stream",
     "text": [
      "09/18 17:07:14 - mmengine - \u001b[4m\u001b[97mINFO\u001b[0m - the output image has been saved at ./Results\\humanadnanimal.jpg\n",
      "Image name: humanadnanimal.jpg\n",
      "Number of humans on the image:1\n",
      "Number of humans detected:1\n",
      "Detection time:2.6999623514711857e-06 seconds\n",
      "Loads checkpoint by http backend from path: https://download.openmmlab.com/mmpose/v1/projects/rtmposev1/rtmpose-m_simcc-body7_pt-body7_420e-256x192-e48f03d0_20230504.pth\n",
      "Loads checkpoint by http backend from path: https://download.openmmlab.com/mmpose/v1/projects/rtmposev1/rtmdet_m_8xb32-100e_coco-obj365-person-235e8209.pth\n"
     ]
    },
    {
     "name": "stderr",
     "output_type": "stream",
     "text": [
      "c:\\Users\\pawel\\miniconda3\\envs\\openmmlab\\lib\\site-packages\\mmdet\\models\\layers\\se_layer.py:158: FutureWarning: `torch.cuda.amp.autocast(args...)` is deprecated. Please use `torch.amp.autocast('cuda', args...)` instead.\n",
      "  with torch.cuda.amp.autocast(enabled=False):\n",
      "c:\\Users\\pawel\\miniconda3\\envs\\openmmlab\\lib\\site-packages\\mmdet\\models\\backbones\\csp_darknet.py:118: FutureWarning: `torch.cuda.amp.autocast(args...)` is deprecated. Please use `torch.amp.autocast('cuda', args...)` instead.\n",
      "  with torch.cuda.amp.autocast(enabled=False):\n"
     ]
    },
    {
     "name": "stdout",
     "output_type": "stream",
     "text": [
      "09/18 17:07:18 - mmengine - \u001b[4m\u001b[97mINFO\u001b[0m - the output image has been saved at ./Results\\group.jpg\n",
      "Image name: group.jpg\n",
      "Number of humans on the image:22\n",
      "Number of humans detected:21\n",
      "Detection time:2.3999600671231747e-06 seconds\n",
      "Loads checkpoint by http backend from path: https://download.openmmlab.com/mmpose/v1/projects/rtmposev1/rtmpose-m_simcc-body7_pt-body7_420e-256x192-e48f03d0_20230504.pth\n",
      "Loads checkpoint by http backend from path: https://download.openmmlab.com/mmpose/v1/projects/rtmposev1/rtmdet_m_8xb32-100e_coco-obj365-person-235e8209.pth\n"
     ]
    },
    {
     "name": "stderr",
     "output_type": "stream",
     "text": [
      "c:\\Users\\pawel\\miniconda3\\envs\\openmmlab\\lib\\site-packages\\mmdet\\models\\layers\\se_layer.py:158: FutureWarning: `torch.cuda.amp.autocast(args...)` is deprecated. Please use `torch.amp.autocast('cuda', args...)` instead.\n",
      "  with torch.cuda.amp.autocast(enabled=False):\n",
      "c:\\Users\\pawel\\miniconda3\\envs\\openmmlab\\lib\\site-packages\\mmdet\\models\\backbones\\csp_darknet.py:118: FutureWarning: `torch.cuda.amp.autocast(args...)` is deprecated. Please use `torch.amp.autocast('cuda', args...)` instead.\n",
      "  with torch.cuda.amp.autocast(enabled=False):\n"
     ]
    },
    {
     "name": "stdout",
     "output_type": "stream",
     "text": [
      "09/18 17:07:21 - mmengine - \u001b[4m\u001b[97mINFO\u001b[0m - the output image has been saved at ./Results\\one.jpg\n",
      "Image name: one.jpg\n",
      "Number of humans on the image:1\n",
      "Number of humans detected:1\n",
      "Detection time:2.7999631129205227e-06 seconds\n",
      "Loads checkpoint by http backend from path: https://download.openmmlab.com/mmpose/v1/projects/rtmposev1/rtmpose-m_simcc-body7_pt-body7_420e-256x192-e48f03d0_20230504.pth\n",
      "Loads checkpoint by http backend from path: https://download.openmmlab.com/mmpose/v1/projects/rtmposev1/rtmdet_m_8xb32-100e_coco-obj365-person-235e8209.pth\n"
     ]
    },
    {
     "name": "stderr",
     "output_type": "stream",
     "text": [
      "c:\\Users\\pawel\\miniconda3\\envs\\openmmlab\\lib\\site-packages\\mmdet\\models\\layers\\se_layer.py:158: FutureWarning: `torch.cuda.amp.autocast(args...)` is deprecated. Please use `torch.amp.autocast('cuda', args...)` instead.\n",
      "  with torch.cuda.amp.autocast(enabled=False):\n",
      "c:\\Users\\pawel\\miniconda3\\envs\\openmmlab\\lib\\site-packages\\mmdet\\models\\backbones\\csp_darknet.py:118: FutureWarning: `torch.cuda.amp.autocast(args...)` is deprecated. Please use `torch.amp.autocast('cuda', args...)` instead.\n",
      "  with torch.cuda.amp.autocast(enabled=False):\n"
     ]
    },
    {
     "name": "stdout",
     "output_type": "stream",
     "text": [
      "09/18 17:07:24 - mmengine - \u001b[4m\u001b[97mINFO\u001b[0m - the output image has been saved at ./Results\\manwithoutlimbs.jpg\n",
      "Image name: manwithoutlimbs.jpg\n",
      "Number of humans on the image:1\n",
      "Number of humans detected:1\n",
      "Detection time:2.500019036233425e-06 seconds\n",
      "Loads checkpoint by http backend from path: https://download.openmmlab.com/mmpose/v1/projects/rtmposev1/rtmpose-m_simcc-body7_pt-body7_420e-256x192-e48f03d0_20230504.pth\n",
      "Loads checkpoint by http backend from path: https://download.openmmlab.com/mmpose/v1/projects/rtmposev1/rtmdet_m_8xb32-100e_coco-obj365-person-235e8209.pth\n"
     ]
    },
    {
     "name": "stderr",
     "output_type": "stream",
     "text": [
      "c:\\Users\\pawel\\miniconda3\\envs\\openmmlab\\lib\\site-packages\\mmdet\\models\\layers\\se_layer.py:158: FutureWarning: `torch.cuda.amp.autocast(args...)` is deprecated. Please use `torch.amp.autocast('cuda', args...)` instead.\n",
      "  with torch.cuda.amp.autocast(enabled=False):\n",
      "c:\\Users\\pawel\\miniconda3\\envs\\openmmlab\\lib\\site-packages\\mmdet\\models\\backbones\\csp_darknet.py:118: FutureWarning: `torch.cuda.amp.autocast(args...)` is deprecated. Please use `torch.amp.autocast('cuda', args...)` instead.\n",
      "  with torch.cuda.amp.autocast(enabled=False):\n"
     ]
    },
    {
     "name": "stdout",
     "output_type": "stream",
     "text": [
      "09/18 17:07:28 - mmengine - \u001b[4m\u001b[97mINFO\u001b[0m - the output image has been saved at ./Results\\group2.jpg\n",
      "Image name: group2.jpg\n",
      "Number of humans on the image:8\n",
      "Number of humans detected:5\n",
      "Detection time:2.600019797682762e-06 seconds\n",
      "Loads checkpoint by http backend from path: https://download.openmmlab.com/mmpose/v1/projects/rtmposev1/rtmpose-m_simcc-body7_pt-body7_420e-256x192-e48f03d0_20230504.pth\n",
      "Loads checkpoint by http backend from path: https://download.openmmlab.com/mmpose/v1/projects/rtmposev1/rtmdet_m_8xb32-100e_coco-obj365-person-235e8209.pth\n"
     ]
    },
    {
     "name": "stderr",
     "output_type": "stream",
     "text": [
      "c:\\Users\\pawel\\miniconda3\\envs\\openmmlab\\lib\\site-packages\\mmdet\\models\\layers\\se_layer.py:158: FutureWarning: `torch.cuda.amp.autocast(args...)` is deprecated. Please use `torch.amp.autocast('cuda', args...)` instead.\n",
      "  with torch.cuda.amp.autocast(enabled=False):\n",
      "c:\\Users\\pawel\\miniconda3\\envs\\openmmlab\\lib\\site-packages\\mmdet\\models\\backbones\\csp_darknet.py:118: FutureWarning: `torch.cuda.amp.autocast(args...)` is deprecated. Please use `torch.amp.autocast('cuda', args...)` instead.\n",
      "  with torch.cuda.amp.autocast(enabled=False):\n"
     ]
    },
    {
     "name": "stdout",
     "output_type": "stream",
     "text": [
      "09/18 17:07:31 - mmengine - \u001b[4m\u001b[97mINFO\u001b[0m - the output image has been saved at ./Results\\animallikehuman.jpg\n",
      "Image name: animallikehuman.jpg\n",
      "Number of humans on the image:0\n",
      "Number of humans detected:1\n",
      "Detection time:2.8999638743698597e-06 seconds\n"
     ]
    },
    {
     "data": {
      "image/png": "[encoded data removed]",
      "text/plain": [
       "<Figure size 640x480 with 1 Axes>"
      ]
     },
     "metadata": {},
     "output_type": "display_data"
    }
   ],
   "source": [
    "import time\n",
    "import mmpose\n",
    "from mmpose.apis import MMPoseInferencer\n",
    "from pathlib import Path\n",
    "import matplotlib\n",
    "import matplotlib.pyplot as plt\n",
    "\n",
    "time_res = []\n",
    "\n",
    "\n",
    "  # replace this with your own image path\n",
    "def test_mmposeinter_human(img_path,num_of_h):\n",
    "# instantiate the inferencer using the model alias\n",
    "    inferencer = MMPoseInferencer('human')\n",
    "\n",
    "# The MMPoseInferencer API employs a lazy inference approach,\n",
    "# creating a prediction generator when given input\n",
    "    start = time.perf_counter()\n",
    "    result_generator = inferencer(img_path, show=True, vis_out_dir='./Results')\n",
    "    stop = time.perf_counter()\n",
    "    result = next(result_generator)\n",
    "    print(f\"Image name: {Path(img_path).name}\")\n",
    "    print(f\"Number of humans on the image:{num_of_h}\")\n",
    "    print(f\"Number of humans detected:{len(result['predictions'][0])}\")\n",
    "    print(f\"Detection time:{stop-start} seconds\")\n",
    "    nb = len(result['predictions'][0])\n",
    "    return stop-start, nb\n",
    "    \n",
    "nb_h_l = []\n",
    "\n",
    "img_path = './InputsJPGs/humanadnanimal.jpg' \n",
    "t, nb_det = test_mmposeinter_human(img_path,1)\n",
    "time_res.append(t)\n",
    "nb_h_l.append(nb_det)\n",
    "\n",
    "img_path = './InputsJPGs/group.jpg' \n",
    "t, nb_det = test_mmposeinter_human(img_path,22)\n",
    "time_res.append(t)\n",
    "nb_h_l.append(nb_det)\n",
    "\n",
    "img_path = './InputsJPGs/one.jpg' \n",
    "t, nb_det = test_mmposeinter_human(img_path,1)\n",
    "time_res.append(t)\n",
    "nb_h_l.append(nb_det)\n",
    "\n",
    "img_path = './InputsJPGs/manwithoutlimbs.jpg' \n",
    "t, nb_det = test_mmposeinter_human(img_path,1)\n",
    "time_res.append(t)\n",
    "nb_h_l.append(nb_det)\n",
    "\n",
    "img_path = './InputsJPGs/group2.jpg' \n",
    "t, nb_det = test_mmposeinter_human(img_path,8)\n",
    "time_res.append(t)\n",
    "nb_h_l.append(nb_det)\n",
    "\n",
    "img_path = './InputsJPGs/animallikehuman.jpg'\n",
    "t, nb_det = test_mmposeinter_human(img_path,0)\n",
    "time_res.append(t)\n",
    "nb_h_l.append(nb_det)\n",
    "\n",
    "\n",
    "\n",
    "plt.scatter(nb_h_l,time_res)\n",
    "plt.grid()\n",
    "plt.title(\"Time of detection depending on number of detected people\")\n",
    "plt.xlabel('Number of detected people')\n",
    "plt.ylabel('Detection time [s]')\n",
    "plt.show()\n"
   ]
  }
 ],
 "metadata": {
  "kernelspec": {
   "display_name": "openmmlab",
   "language": "python",
   "name": "python3"
  },
  "language_info": {
   "codemirror_mode": {
    "name": "ipython",
    "version": 3
   },
   "file_extension": ".py",
   "mimetype": "text/x-python",
   "name": "python",
   "nbconvert_exporter": "python",
   "pygments_lexer": "ipython3",
   "version": "3.10.14"
  }
 },
 "nbformat": 4,
 "nbformat_minor": 2
}
